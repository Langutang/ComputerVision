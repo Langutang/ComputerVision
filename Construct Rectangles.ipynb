{
 "cells": [
  {
   "cell_type": "code",
   "execution_count": 1,
   "metadata": {},
   "outputs": [],
   "source": [
    "import cv2\n",
    "import numpy as np\n",
    "\n",
    "\n",
    "#############\n",
    "#Variables#\n",
    "\n",
    "#true while mouse button down, false while mouse button up\n",
    "drawing = False\n",
    "\n",
    "ix, iy = -1, -1\n",
    "\n",
    "\n",
    "\n",
    "##########\n",
    "#FUNCTION\n",
    "def draw_rectangle(event, x,y, flags, params):\n",
    "    global ix, iy, drawing\n",
    "\n",
    "    #If left click, drawing is true, and the ix,iy becomes the location of the mouse click\n",
    "    if event == cv2.EVENT_LBUTTONDOWN:\n",
    "        drawing = True\n",
    "        ix, iy = x,y\n",
    "    #If the mouse is moving & drawing true, draw a green filled rectangle. Not true drawing will result in movement and no click  \n",
    "    elif event == cv2.EVENT_MOUSEMOVE:\n",
    "        if drawing == True:\n",
    "            cv2.rectangle(img, (ix,iy), (x,y), (0,255,0), -1)\n",
    "    #Lifting up left click, no more drawing and the points stop at mouse location    \n",
    "    elif event == cv2.EVENT_LBUTTONUP:\n",
    "        drawing = False\n",
    "        cv2.rectangle(img, (ix,iy), (x,y), (0,255,0), -1)\n",
    "        \n",
    "\n",
    "###########\n",
    "#SHOWING IMG\n",
    "\n",
    "img = np.zeros((512,512,3))\n",
    "\n",
    "cv2.namedWindow(winname = 'mynew_draw')\n",
    "\n",
    "cv2.setMouseCallback('mynew_draw', draw_rectangle)\n",
    "\n",
    "while True:\n",
    "    \n",
    "    cv2.imshow('mynew_draw', img)\n",
    "    \n",
    "    if cv2.waitKey(1) & 0xFF == 27:\n",
    "        break\n",
    "        \n",
    "cv2.destroyAllWindows()"
   ]
  },
  {
   "cell_type": "code",
   "execution_count": null,
   "metadata": {},
   "outputs": [],
   "source": []
  },
  {
   "cell_type": "code",
   "execution_count": null,
   "metadata": {},
   "outputs": [],
   "source": []
  }
 ],
 "metadata": {
  "kernelspec": {
   "display_name": "Python 3",
   "language": "python",
   "name": "python3"
  },
  "language_info": {
   "codemirror_mode": {
    "name": "ipython",
    "version": 3
   },
   "file_extension": ".py",
   "mimetype": "text/x-python",
   "name": "python",
   "nbconvert_exporter": "python",
   "pygments_lexer": "ipython3",
   "version": "3.7.3"
  }
 },
 "nbformat": 4,
 "nbformat_minor": 4
}
